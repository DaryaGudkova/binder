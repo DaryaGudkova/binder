from IPython.display import display
import ipywidgets as widgets
import matplotlib.pyplot as plt
import numpy as np
from matplotlib.patches import Ellipse

def plot_ellipse(add=0):
    # Фигура и ось
    fig, ax = plt.subplots(figsize=(6, 6))
    ax.set_xlim(-1.5, 1.5)
    ax.set_ylim(-1.5, 1.5)
    ax.set_aspect('equal')
    ax.axis('off')

    # Параметры овала
    a = 1.3  # полуось по x
    b_ellipse = 0.8  # полуось по y (переименовано, чтобы не путать с параметром add)

    # Эллипс (контур)
    ellipse = Ellipse(xy=(0, 0), width=2*a, height=2*b_ellipse, 
                     edgecolor='white', facecolor='none', linewidth=2)
    ax.add_patch(ellipse)

    # Сетка точек
    Y, X = np.mgrid[-1.5:1.5:300j, -1.5:1.5:300j]
    mask = (X**2 / a**2 + Y**2 / b_ellipse**2) <= 1

    # Параметры границы
    angle_deg = 60
    theta = np.deg2rad(angle_deg)
    slope = np.tan(theta)

    # Разделяющая прямая: y = slope * x + add
    fp = (Y < 0) & (Y > slope * X + add) & mask
    tp = (Y > 0) & (Y > slope * X + add) & mask
    tn = (Y < 0) & (Y < slope * X + add) & mask
    fn = (Y > 0) & (Y < slope * X + add) & mask 

    # Цвета
    colors = np.zeros(X.shape + (4,))
    colors[tp] = [0/255, 125/255, 187/255, 1.0]    
    colors[fn] = [255/255, 170/255, 79/255, 1.0]
    colors[fp] = [158/255, 219/255, 235/255, 1.0]  
    colors[tn] = [235/255, 0, 0, 1.0]   

    # Отображение
    ax.imshow(colors, extent=(-1.5, 1.5, -1.5, 1.5), origin='lower')

    # Граница
    x_vals = np.array([-1.5, 1.5])
    y_vals = slope * x_vals + add
    ax.plot(x_vals, y_vals, 'k-', linewidth=3)

    # Функция для проверки существования области
    def area_exists(coords_mask):
        return np.any(coords_mask)

    # Функция для нахождения центра масс области
    def get_center(coords_mask):
        x_coords = X[coords_mask]
        y_coords = Y[coords_mask]
        return (np.mean(x_coords), np.mean(y_coords)) if len(x_coords) > 0 else None

    # Собираем информацию о секторах
    sectors = [
        (tp, "TP", [0/255, 125/255, 187/255]),
        (fn, "FN", [255/255, 170/255, 79/255]),
        (fp, "FP", [158/255, 219/255, 235/255]),
        (tn, "TN", [235/255, 0, 0])
    ]

    # Добавляем подписи только для существующих секторов
    for mask, label, color in sectors:
        if area_exists(mask):
            center = get_center(mask)
            if center is not None:
                text_color = 'white'
                ax.text(*center, label, color=text_color, fontsize=20, 
                        ha='center', va='center', fontweight='bold')

    plt.show()


# Вместо interact используйте:
slider = widgets.FloatSlider(
    value=0,
    min=-2.4,
    max=2.4,
    step=0.08,
    description='Порог (b):',
    continuous_update=True,
    readout_format='.1f'
    )
widgets.interactive_output(plot_ellipse, {'add': slider})
display(widgets.VBox([slider]))
